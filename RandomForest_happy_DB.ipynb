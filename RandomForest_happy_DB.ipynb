{
  "nbformat": 4,
  "nbformat_minor": 0,
  "metadata": {
    "colab": {
      "name": "RandomForest_happy_DB.ipynb",
      "provenance": [],
      "collapsed_sections": [],
      "machine_shape": "hm"
    },
    "kernelspec": {
      "name": "python3",
      "display_name": "Python 3"
    }
  },
  "cells": [
    {
      "cell_type": "markdown",
      "metadata": {
        "id": "yLyaw5P5_5tp",
        "colab_type": "text"
      },
      "source": [
        "# Import libraries: visualization, text analysis and classifiers"
      ]
    },
    {
      "cell_type": "code",
      "metadata": {
        "id": "3s2C-rkp_ijF",
        "colab_type": "code",
        "outputId": "e31a71fa-9785-44b0-dee4-9c0d7a4c0c32",
        "colab": {
          "base_uri": "https://localhost:8080/",
          "height": 102
        }
      },
      "source": [
        "import nltk  \n",
        "nltk.download('stopwords')\n",
        "nltk.download('wordnet')"
      ],
      "execution_count": 0,
      "outputs": [
        {
          "output_type": "stream",
          "text": [
            "[nltk_data] Downloading package stopwords to /root/nltk_data...\n",
            "[nltk_data]   Unzipping corpora/stopwords.zip.\n",
            "[nltk_data] Downloading package wordnet to /root/nltk_data...\n",
            "[nltk_data]   Unzipping corpora/wordnet.zip.\n"
          ],
          "name": "stdout"
        },
        {
          "output_type": "execute_result",
          "data": {
            "text/plain": [
              "True"
            ]
          },
          "metadata": {
            "tags": []
          },
          "execution_count": 2
        }
      ]
    },
    {
      "cell_type": "code",
      "metadata": {
        "id": "4yuBvy2b-_VE",
        "colab_type": "code",
        "outputId": "9f50d593-3e09-4187-e211-bebc6bdca532",
        "colab": {
          "base_uri": "https://localhost:8080/",
          "height": 71
        }
      },
      "source": [
        "import numpy as np\n",
        "import pandas as pd\n",
        "import seaborn as sns\n",
        "import matplotlib.pyplot as plt\n",
        "%matplotlib inline\n",
        "import warnings\n",
        "warnings.filterwarnings('ignore')\n",
        "\n",
        "import cufflinks as cf\n",
        "from plotly.offline import download_plotlyjs, init_notebook_mode, plot, iplot\n",
        "init_notebook_mode(connected=True)\n",
        "cf.go_offline()\n",
        "import plotly.graph_objs as go\n",
        "\n",
        "from sklearn.feature_extraction.text import CountVectorizer\n",
        "\n",
        "from sklearn.model_selection import train_test_split\n",
        "\n",
        "from sklearn.naive_bayes import MultinomialNB\n",
        "from sklearn.metrics import classification_report, confusion_matrix\n",
        "from sklearn.feature_extraction.text import TfidfTransformer\n",
        "from sklearn.pipeline import Pipeline\n",
        "\n",
        "import nltk\n",
        "import string\n",
        "import nltk.corpus\n",
        "import nltk.stem.snowball\n",
        "from nltk.corpus import wordnet\n",
        "# Get default English stopwords and extend with punctuation\n",
        "stopwords = nltk.corpus.stopwords.words('english')\n",
        "stopwords.extend(string.punctuation)\n",
        "stopwords.append('')\n",
        "\n"
      ],
      "execution_count": 0,
      "outputs": [
        {
          "output_type": "stream",
          "text": [
            "/usr/local/lib/python3.6/dist-packages/statsmodels/tools/_testing.py:19: FutureWarning: pandas.util.testing is deprecated. Use the functions in the public API at pandas.testing instead.\n",
            "  import pandas.util.testing as tm\n"
          ],
          "name": "stderr"
        },
        {
          "output_type": "display_data",
          "data": {
            "text/html": [
              "        <script type=\"text/javascript\">\n",
              "        window.PlotlyConfig = {MathJaxConfig: 'local'};\n",
              "        if (window.MathJax) {MathJax.Hub.Config({SVG: {font: \"STIX-Web\"}});}\n",
              "        if (typeof require !== 'undefined') {\n",
              "        require.undef(\"plotly\");\n",
              "        requirejs.config({\n",
              "            paths: {\n",
              "                'plotly': ['https://cdn.plot.ly/plotly-latest.min']\n",
              "            }\n",
              "        });\n",
              "        require(['plotly'], function(Plotly) {\n",
              "            window._Plotly = Plotly;\n",
              "        });\n",
              "        }\n",
              "        </script>\n",
              "        "
            ]
          },
          "metadata": {
            "tags": []
          }
        },
        {
          "output_type": "display_data",
          "data": {
            "text/html": [
              "        <script type=\"text/javascript\">\n",
              "        window.PlotlyConfig = {MathJaxConfig: 'local'};\n",
              "        if (window.MathJax) {MathJax.Hub.Config({SVG: {font: \"STIX-Web\"}});}\n",
              "        if (typeof require !== 'undefined') {\n",
              "        require.undef(\"plotly\");\n",
              "        requirejs.config({\n",
              "            paths: {\n",
              "                'plotly': ['https://cdn.plot.ly/plotly-latest.min']\n",
              "            }\n",
              "        });\n",
              "        require(['plotly'], function(Plotly) {\n",
              "            window._Plotly = Plotly;\n",
              "        });\n",
              "        }\n",
              "        </script>\n",
              "        "
            ]
          },
          "metadata": {
            "tags": []
          }
        }
      ]
    },
    {
      "cell_type": "code",
      "metadata": {
        "id": "BJVI5z1I_m4I",
        "colab_type": "code",
        "colab": {}
      },
      "source": [
        "from sklearn.feature_extraction.text import CountVectorizer\n",
        "from wordcloud import WordCloud, ImageColorGenerator"
      ],
      "execution_count": 0,
      "outputs": []
    },
    {
      "cell_type": "code",
      "metadata": {
        "id": "z_qRH7pe8EHK",
        "colab_type": "code",
        "outputId": "7c29edda-fb60-4378-cf58-2984bbd48018",
        "colab": {
          "base_uri": "https://localhost:8080/",
          "height": 530
        }
      },
      "source": [
        "happy = pd.read_csv('/content/drive/My Drive/256/cleaned_hm.csv')\n",
        "happy.head()"
      ],
      "execution_count": 0,
      "outputs": [
        {
          "output_type": "execute_result",
          "data": {
            "text/html": [
              "<div>\n",
              "<style scoped>\n",
              "    .dataframe tbody tr th:only-of-type {\n",
              "        vertical-align: middle;\n",
              "    }\n",
              "\n",
              "    .dataframe tbody tr th {\n",
              "        vertical-align: top;\n",
              "    }\n",
              "\n",
              "    .dataframe thead th {\n",
              "        text-align: right;\n",
              "    }\n",
              "</style>\n",
              "<table border=\"1\" class=\"dataframe\">\n",
              "  <thead>\n",
              "    <tr style=\"text-align: right;\">\n",
              "      <th></th>\n",
              "      <th>hmid</th>\n",
              "      <th>wid</th>\n",
              "      <th>reflection_period</th>\n",
              "      <th>original_hm</th>\n",
              "      <th>cleaned_hm</th>\n",
              "      <th>modified</th>\n",
              "      <th>num_sentence</th>\n",
              "      <th>ground_truth_category</th>\n",
              "      <th>predicted_category</th>\n",
              "    </tr>\n",
              "  </thead>\n",
              "  <tbody>\n",
              "    <tr>\n",
              "      <th>0</th>\n",
              "      <td>27673</td>\n",
              "      <td>2053</td>\n",
              "      <td>24h</td>\n",
              "      <td>I went on a successful date with someone I fel...</td>\n",
              "      <td>I went on a successful date with someone I fel...</td>\n",
              "      <td>True</td>\n",
              "      <td>1</td>\n",
              "      <td>NaN</td>\n",
              "      <td>affection</td>\n",
              "    </tr>\n",
              "    <tr>\n",
              "      <th>1</th>\n",
              "      <td>27674</td>\n",
              "      <td>2</td>\n",
              "      <td>24h</td>\n",
              "      <td>I was happy when my son got 90% marks in his e...</td>\n",
              "      <td>I was happy when my son got 90% marks in his e...</td>\n",
              "      <td>True</td>\n",
              "      <td>1</td>\n",
              "      <td>NaN</td>\n",
              "      <td>affection</td>\n",
              "    </tr>\n",
              "    <tr>\n",
              "      <th>2</th>\n",
              "      <td>27675</td>\n",
              "      <td>1936</td>\n",
              "      <td>24h</td>\n",
              "      <td>I went to the gym this morning and did yoga.</td>\n",
              "      <td>I went to the gym this morning and did yoga.</td>\n",
              "      <td>True</td>\n",
              "      <td>1</td>\n",
              "      <td>NaN</td>\n",
              "      <td>exercise</td>\n",
              "    </tr>\n",
              "    <tr>\n",
              "      <th>3</th>\n",
              "      <td>27676</td>\n",
              "      <td>206</td>\n",
              "      <td>24h</td>\n",
              "      <td>We had a serious talk with some friends of our...</td>\n",
              "      <td>We had a serious talk with some friends of our...</td>\n",
              "      <td>True</td>\n",
              "      <td>2</td>\n",
              "      <td>bonding</td>\n",
              "      <td>bonding</td>\n",
              "    </tr>\n",
              "    <tr>\n",
              "      <th>4</th>\n",
              "      <td>27677</td>\n",
              "      <td>6227</td>\n",
              "      <td>24h</td>\n",
              "      <td>I went with grandchildren to butterfly display...</td>\n",
              "      <td>I went with grandchildren to butterfly display...</td>\n",
              "      <td>True</td>\n",
              "      <td>1</td>\n",
              "      <td>NaN</td>\n",
              "      <td>affection</td>\n",
              "    </tr>\n",
              "  </tbody>\n",
              "</table>\n",
              "</div>"
            ],
            "text/plain": [
              "    hmid   wid  ... ground_truth_category predicted_category\n",
              "0  27673  2053  ...                   NaN          affection\n",
              "1  27674     2  ...                   NaN          affection\n",
              "2  27675  1936  ...                   NaN           exercise\n",
              "3  27676   206  ...               bonding            bonding\n",
              "4  27677  6227  ...                   NaN          affection\n",
              "\n",
              "[5 rows x 9 columns]"
            ]
          },
          "metadata": {
            "tags": []
          },
          "execution_count": 5
        }
      ]
    },
    {
      "cell_type": "markdown",
      "metadata": {
        "id": "_PWXKEy_dS6C",
        "colab_type": "text"
      },
      "source": [
        "total number of missing data per column"
      ]
    },
    {
      "cell_type": "code",
      "metadata": {
        "id": "6_aGpxR1t48z",
        "colab_type": "code",
        "outputId": "365445bb-cc76-43e4-c842-9da4881cf7cf",
        "colab": {
          "base_uri": "https://localhost:8080/",
          "height": 187
        }
      },
      "source": [
        "happy.isnull().sum(axis = 0)"
      ],
      "execution_count": 0,
      "outputs": [
        {
          "output_type": "execute_result",
          "data": {
            "text/plain": [
              "hmid                         0\n",
              "wid                          0\n",
              "reflection_period            0\n",
              "original_hm                  0\n",
              "cleaned_hm                   0\n",
              "modified                     0\n",
              "num_sentence                 0\n",
              "ground_truth_category    86410\n",
              "predicted_category           0\n",
              "dtype: int64"
            ]
          },
          "metadata": {
            "tags": []
          },
          "execution_count": 6
        }
      ]
    },
    {
      "cell_type": "code",
      "metadata": {
        "id": "MWafzEPL8JGZ",
        "colab_type": "code",
        "outputId": "b793258a-989f-4740-edef-4b039987700e",
        "colab": {
          "base_uri": "https://localhost:8080/",
          "height": 204
        }
      },
      "source": [
        "demographic  = pd.read_csv('/content/drive/My Drive/256/demographic.csv')\n",
        "demographic .head()"
      ],
      "execution_count": 0,
      "outputs": [
        {
          "output_type": "execute_result",
          "data": {
            "text/html": [
              "<div>\n",
              "<style scoped>\n",
              "    .dataframe tbody tr th:only-of-type {\n",
              "        vertical-align: middle;\n",
              "    }\n",
              "\n",
              "    .dataframe tbody tr th {\n",
              "        vertical-align: top;\n",
              "    }\n",
              "\n",
              "    .dataframe thead th {\n",
              "        text-align: right;\n",
              "    }\n",
              "</style>\n",
              "<table border=\"1\" class=\"dataframe\">\n",
              "  <thead>\n",
              "    <tr style=\"text-align: right;\">\n",
              "      <th></th>\n",
              "      <th>wid</th>\n",
              "      <th>age</th>\n",
              "      <th>country</th>\n",
              "      <th>gender</th>\n",
              "      <th>marital</th>\n",
              "      <th>parenthood</th>\n",
              "    </tr>\n",
              "  </thead>\n",
              "  <tbody>\n",
              "    <tr>\n",
              "      <th>0</th>\n",
              "      <td>1</td>\n",
              "      <td>37.0</td>\n",
              "      <td>USA</td>\n",
              "      <td>m</td>\n",
              "      <td>married</td>\n",
              "      <td>y</td>\n",
              "    </tr>\n",
              "    <tr>\n",
              "      <th>1</th>\n",
              "      <td>2</td>\n",
              "      <td>29.0</td>\n",
              "      <td>IND</td>\n",
              "      <td>m</td>\n",
              "      <td>married</td>\n",
              "      <td>y</td>\n",
              "    </tr>\n",
              "    <tr>\n",
              "      <th>2</th>\n",
              "      <td>3</td>\n",
              "      <td>25</td>\n",
              "      <td>IND</td>\n",
              "      <td>m</td>\n",
              "      <td>single</td>\n",
              "      <td>n</td>\n",
              "    </tr>\n",
              "    <tr>\n",
              "      <th>3</th>\n",
              "      <td>4</td>\n",
              "      <td>32</td>\n",
              "      <td>USA</td>\n",
              "      <td>m</td>\n",
              "      <td>married</td>\n",
              "      <td>y</td>\n",
              "    </tr>\n",
              "    <tr>\n",
              "      <th>4</th>\n",
              "      <td>5</td>\n",
              "      <td>29</td>\n",
              "      <td>USA</td>\n",
              "      <td>m</td>\n",
              "      <td>married</td>\n",
              "      <td>y</td>\n",
              "    </tr>\n",
              "  </tbody>\n",
              "</table>\n",
              "</div>"
            ],
            "text/plain": [
              "   wid   age country gender  marital parenthood\n",
              "0    1  37.0     USA      m  married          y\n",
              "1    2  29.0     IND      m  married          y\n",
              "2    3    25     IND      m   single          n\n",
              "3    4    32     USA      m  married          y\n",
              "4    5    29     USA      m  married          y"
            ]
          },
          "metadata": {
            "tags": []
          },
          "execution_count": 8
        }
      ]
    },
    {
      "cell_type": "markdown",
      "metadata": {
        "id": "j4-tkqNcAQ4m",
        "colab_type": "text"
      },
      "source": [
        "**clean demographic only once**"
      ]
    },
    {
      "cell_type": "code",
      "metadata": {
        "id": "NZVruPM_AdAo",
        "colab_type": "code",
        "colab": {}
      },
      "source": [
        "# RUN THIS FUNCTION ONLY ONCE AND SAVE demographic_cleaned.csv IN YOUR ACTIVE DIRECTORY\n",
        "# clean_string function to remove text string but keep number string, float and integer\n",
        "# I ran the clean_string function below only once and saved the cleaned dataframe as demographic_cleaned.csv\n",
        "# For all subsequent analysis, I then import demographic_cleaned.csv directly in order to avoid cleaning data each time.\n",
        "\n",
        "def clean_string(df, column):\n",
        "   for i in range(0,len(df)):\n",
        "       if type(df[column][i])==str:\n",
        "           df[column][i] = df[column][i].split('.')[0]\n",
        "           if df[column][i].isdigit()==False:\n",
        "               df[column][i]=50\n",
        "   return df\n",
        "demographic = clean_string(demographic, 'age')\n",
        "\n",
        "demographic.head(2)\n",
        "demographic.to_csv(\"demographic_cleaned.csv\", index=False)\n"
      ],
      "execution_count": 0,
      "outputs": []
    },
    {
      "cell_type": "markdown",
      "metadata": {
        "id": "wOFBAskTIjSY",
        "colab_type": "text"
      },
      "source": [
        "Merging datasets"
      ]
    },
    {
      "cell_type": "code",
      "metadata": {
        "id": "eQ8c9-P6Iczi",
        "colab_type": "code",
        "outputId": "eda07fa2-f3d0-45d2-ded5-acdb59459c6d",
        "colab": {
          "base_uri": "https://localhost:8080/",
          "height": 366
        }
      },
      "source": [
        "happy = pd.merge(happy, demographic, on='wid', validate = 'm:1')\n",
        "happy.head(3)"
      ],
      "execution_count": 0,
      "outputs": [
        {
          "output_type": "execute_result",
          "data": {
            "text/html": [
              "<div>\n",
              "<style scoped>\n",
              "    .dataframe tbody tr th:only-of-type {\n",
              "        vertical-align: middle;\n",
              "    }\n",
              "\n",
              "    .dataframe tbody tr th {\n",
              "        vertical-align: top;\n",
              "    }\n",
              "\n",
              "    .dataframe thead th {\n",
              "        text-align: right;\n",
              "    }\n",
              "</style>\n",
              "<table border=\"1\" class=\"dataframe\">\n",
              "  <thead>\n",
              "    <tr style=\"text-align: right;\">\n",
              "      <th></th>\n",
              "      <th>hmid</th>\n",
              "      <th>wid</th>\n",
              "      <th>reflection_period</th>\n",
              "      <th>original_hm</th>\n",
              "      <th>cleaned_hm</th>\n",
              "      <th>modified</th>\n",
              "      <th>num_sentence</th>\n",
              "      <th>ground_truth_category</th>\n",
              "      <th>predicted_category</th>\n",
              "      <th>length</th>\n",
              "      <th>age</th>\n",
              "      <th>country</th>\n",
              "      <th>gender</th>\n",
              "      <th>marital</th>\n",
              "      <th>parenthood</th>\n",
              "    </tr>\n",
              "  </thead>\n",
              "  <tbody>\n",
              "    <tr>\n",
              "      <th>0</th>\n",
              "      <td>27674</td>\n",
              "      <td>2</td>\n",
              "      <td>24h</td>\n",
              "      <td>I was happy when my son got 90% marks in his e...</td>\n",
              "      <td>I was happy when my son got 90% marks in his e...</td>\n",
              "      <td>True</td>\n",
              "      <td>1</td>\n",
              "      <td>NaN</td>\n",
              "      <td>affection</td>\n",
              "      <td>12</td>\n",
              "      <td>29</td>\n",
              "      <td>IND</td>\n",
              "      <td>m</td>\n",
              "      <td>married</td>\n",
              "      <td>y</td>\n",
              "    </tr>\n",
              "    <tr>\n",
              "      <th>1</th>\n",
              "      <td>27874</td>\n",
              "      <td>2</td>\n",
              "      <td>24h</td>\n",
              "      <td>I was very happy when my family brings me beau...</td>\n",
              "      <td>I was very happy when my family brings me beau...</td>\n",
              "      <td>True</td>\n",
              "      <td>1</td>\n",
              "      <td>NaN</td>\n",
              "      <td>affection</td>\n",
              "      <td>13</td>\n",
              "      <td>29</td>\n",
              "      <td>IND</td>\n",
              "      <td>m</td>\n",
              "      <td>married</td>\n",
              "      <td>y</td>\n",
              "    </tr>\n",
              "    <tr>\n",
              "      <th>2</th>\n",
              "      <td>28074</td>\n",
              "      <td>2</td>\n",
              "      <td>24h</td>\n",
              "      <td>I was happy when I got my new incentives from ...</td>\n",
              "      <td>I was happy when I got my new incentives from ...</td>\n",
              "      <td>True</td>\n",
              "      <td>1</td>\n",
              "      <td>NaN</td>\n",
              "      <td>achievement</td>\n",
              "      <td>13</td>\n",
              "      <td>29</td>\n",
              "      <td>IND</td>\n",
              "      <td>m</td>\n",
              "      <td>married</td>\n",
              "      <td>y</td>\n",
              "    </tr>\n",
              "  </tbody>\n",
              "</table>\n",
              "</div>"
            ],
            "text/plain": [
              "    hmid  wid reflection_period  ... gender  marital  parenthood\n",
              "0  27674    2               24h  ...      m  married           y\n",
              "1  27874    2               24h  ...      m  married           y\n",
              "2  28074    2               24h  ...      m  married           y\n",
              "\n",
              "[3 rows x 15 columns]"
            ]
          },
          "metadata": {
            "tags": []
          },
          "execution_count": 14
        }
      ]
    },
    {
      "cell_type": "markdown",
      "metadata": {
        "id": "t9eAfh0xsj_e",
        "colab_type": "text"
      },
      "source": [
        "# Data import and preparation"
      ]
    },
    {
      "cell_type": "code",
      "metadata": {
        "id": "t8sxjWWRyT1k",
        "colab_type": "code",
        "outputId": "58285ccb-7f82-4abb-e226-c44abcb287f3",
        "colab": {
          "base_uri": "https://localhost:8080/",
          "height": 564
        }
      },
      "source": [
        "happy.head()"
      ],
      "execution_count": 0,
      "outputs": [
        {
          "output_type": "execute_result",
          "data": {
            "text/html": [
              "<div>\n",
              "<style scoped>\n",
              "    .dataframe tbody tr th:only-of-type {\n",
              "        vertical-align: middle;\n",
              "    }\n",
              "\n",
              "    .dataframe tbody tr th {\n",
              "        vertical-align: top;\n",
              "    }\n",
              "\n",
              "    .dataframe thead th {\n",
              "        text-align: right;\n",
              "    }\n",
              "</style>\n",
              "<table border=\"1\" class=\"dataframe\">\n",
              "  <thead>\n",
              "    <tr style=\"text-align: right;\">\n",
              "      <th></th>\n",
              "      <th>hmid</th>\n",
              "      <th>wid</th>\n",
              "      <th>cleaned_hm</th>\n",
              "      <th>num_sentence</th>\n",
              "      <th>predicted_category</th>\n",
              "      <th>length</th>\n",
              "      <th>age</th>\n",
              "      <th>country</th>\n",
              "      <th>gender</th>\n",
              "      <th>marital</th>\n",
              "      <th>parenthood</th>\n",
              "      <th>reflection_period</th>\n",
              "    </tr>\n",
              "  </thead>\n",
              "  <tbody>\n",
              "    <tr>\n",
              "      <th>0</th>\n",
              "      <td>27674</td>\n",
              "      <td>2</td>\n",
              "      <td>I was happy when my son got 90% marks in his e...</td>\n",
              "      <td>1</td>\n",
              "      <td>6</td>\n",
              "      <td>12</td>\n",
              "      <td>29</td>\n",
              "      <td>0.0</td>\n",
              "      <td>0</td>\n",
              "      <td>1</td>\n",
              "      <td>1</td>\n",
              "      <td>0</td>\n",
              "    </tr>\n",
              "    <tr>\n",
              "      <th>1</th>\n",
              "      <td>27874</td>\n",
              "      <td>2</td>\n",
              "      <td>I was very happy when my family brings me beau...</td>\n",
              "      <td>1</td>\n",
              "      <td>6</td>\n",
              "      <td>13</td>\n",
              "      <td>29</td>\n",
              "      <td>0.0</td>\n",
              "      <td>0</td>\n",
              "      <td>1</td>\n",
              "      <td>1</td>\n",
              "      <td>0</td>\n",
              "    </tr>\n",
              "    <tr>\n",
              "      <th>2</th>\n",
              "      <td>28074</td>\n",
              "      <td>2</td>\n",
              "      <td>I was happy when I got my new incentives from ...</td>\n",
              "      <td>1</td>\n",
              "      <td>3</td>\n",
              "      <td>13</td>\n",
              "      <td>29</td>\n",
              "      <td>0.0</td>\n",
              "      <td>0</td>\n",
              "      <td>1</td>\n",
              "      <td>1</td>\n",
              "      <td>0</td>\n",
              "    </tr>\n",
              "    <tr>\n",
              "      <th>3</th>\n",
              "      <td>29946</td>\n",
              "      <td>2</td>\n",
              "      <td>When my family cooked my favorite food at night</td>\n",
              "      <td>1</td>\n",
              "      <td>6</td>\n",
              "      <td>9</td>\n",
              "      <td>29</td>\n",
              "      <td>0.0</td>\n",
              "      <td>0</td>\n",
              "      <td>1</td>\n",
              "      <td>1</td>\n",
              "      <td>0</td>\n",
              "    </tr>\n",
              "    <tr>\n",
              "      <th>4</th>\n",
              "      <td>30945</td>\n",
              "      <td>2</td>\n",
              "      <td>When my son got recovery from their disease</td>\n",
              "      <td>1</td>\n",
              "      <td>6</td>\n",
              "      <td>8</td>\n",
              "      <td>29</td>\n",
              "      <td>0.0</td>\n",
              "      <td>0</td>\n",
              "      <td>1</td>\n",
              "      <td>1</td>\n",
              "      <td>0</td>\n",
              "    </tr>\n",
              "  </tbody>\n",
              "</table>\n",
              "</div>"
            ],
            "text/plain": [
              "    hmid  wid  ... parenthood  reflection_period\n",
              "0  27674    2  ...          1                  0\n",
              "1  27874    2  ...          1                  0\n",
              "2  28074    2  ...          1                  0\n",
              "3  29946    2  ...          1                  0\n",
              "4  30945    2  ...          1                  0\n",
              "\n",
              "[5 rows x 12 columns]"
            ]
          },
          "metadata": {
            "tags": []
          },
          "execution_count": 33
        }
      ]
    },
    {
      "cell_type": "code",
      "metadata": {
        "id": "-U0HftPn9FxH",
        "colab_type": "code",
        "colab": {}
      },
      "source": [
        "import pandas as pd\n",
        "X = pd.read_csv('/content/drive/My Drive/256/Features.csv')\n",
        "y = pd.read_csv('/content/drive/My Drive/256/Classes.csv')"
      ],
      "execution_count": 0,
      "outputs": []
    },
    {
      "cell_type": "markdown",
      "metadata": {
        "id": "mvCDnOJrginD",
        "colab_type": "text"
      },
      "source": [
        "# Create Model"
      ]
    },
    {
      "cell_type": "markdown",
      "metadata": {
        "id": "N3Z6Rkvpgo2y",
        "colab_type": "text"
      },
      "source": [
        "Train Test Split"
      ]
    },
    {
      "cell_type": "code",
      "metadata": {
        "id": "v1vEWpq0vmrm",
        "colab_type": "code",
        "colab": {}
      },
      "source": [
        "from sklearn.model_selection import train_test_split\n",
        "X_train, X_test, y_train, y_test = train_test_split(X, y, test_size=0.2, random_state=70)"
      ],
      "execution_count": 0,
      "outputs": []
    },
    {
      "cell_type": "code",
      "metadata": {
        "id": "CzOW_idx2J8G",
        "colab_type": "code",
        "colab": {}
      },
      "source": [
        "from sklearn.ensemble import RandomForestClassifier"
      ],
      "execution_count": 0,
      "outputs": []
    },
    {
      "cell_type": "markdown",
      "metadata": {
        "id": "2A6Psb0ThEcV",
        "colab_type": "text"
      },
      "source": [
        "Grid Search"
      ]
    },
    {
      "cell_type": "code",
      "metadata": {
        "id": "QAW5EFh547XE",
        "colab_type": "code",
        "colab": {}
      },
      "source": [
        "#from sklearn.model_selection import RandomizedSearchCV\n",
        "# Number of trees in random forest\n",
        "#n_estimators = [int(x) for x in np.linspace(start = 200, stop = 1000, num = 5)]\n",
        "# Number of features to consider at every split\n",
        "#max_features = ['auto', 'sqrt']\n",
        "# Maximum number of levels in tree\n",
        "#max_depth = [int(x) for x in np.linspace(10, 50, num = 5)]\n",
        "#max_depth.append(None)\n",
        "# Minimum number of samples required to split a node\n",
        "#min_samples_split = [2, 5]\n",
        "# Minimum number of samples required at each leaf node\n",
        "#min_samples_leaf = [1, 2]\n",
        "# Method of selecting samples for training each tree\n",
        "#bootstrap = [True, False]\n",
        "# Create the random grid\n",
        "#random_grid = {'n_estimators': n_estimators,\n",
        "#               'max_features': max_features,\n",
        "#               'max_depth': max_depth,\n",
        "#               'min_samples_split': min_samples_split,\n",
        "#               'min_samples_leaf': min_samples_leaf,\n",
        "#               'bootstrap': bootstrap}\n",
        "#print(random_grid)\n",
        "\n",
        "#https://towardsdatascience.com/hyperparameter-tuning-the-random-forest-in-python-using-scikit-learn-28d2aa77dd74"
      ],
      "execution_count": 0,
      "outputs": []
    },
    {
      "cell_type": "code",
      "metadata": {
        "id": "OfTqt0TO6952",
        "colab_type": "code",
        "colab": {}
      },
      "source": [
        "#regr.fit(X_train,y_train)\n",
        "#mysvm.fit(X_train,y_train)\n",
        "#, n_iter = 100 cv = 2,\n",
        "#rf_random = RandomizedSearchCV(estimator = myrandomF, param_distributions = random_grid, verbose=2, random_state=42, n_jobs =1)\n",
        "#rf_random.fit(X_train,y_train)"
      ],
      "execution_count": 0,
      "outputs": []
    },
    {
      "cell_type": "code",
      "metadata": {
        "id": "bTYBSsmoBwiZ",
        "colab_type": "code",
        "colab": {}
      },
      "source": [
        "#y_pred = rf_random.predict(X_test)"
      ],
      "execution_count": 0,
      "outputs": []
    },
    {
      "cell_type": "code",
      "metadata": {
        "id": "W4LkbLgzut2M",
        "colab_type": "code",
        "colab": {}
      },
      "source": [
        "from sklearn.metrics import mean_squared_error, r2_score, f1_score, precision_recall_curve, roc_curve, accuracy_score"
      ],
      "execution_count": 0,
      "outputs": []
    },
    {
      "cell_type": "code",
      "metadata": {
        "id": "XKAMlI_yoBJH",
        "colab_type": "code",
        "colab": {}
      },
      "source": [
        "#accuracy= accuracy_score(y_test,y_pred)"
      ],
      "execution_count": 0,
      "outputs": []
    },
    {
      "cell_type": "code",
      "metadata": {
        "id": "hKVvhwdFoE9p",
        "colab_type": "code",
        "colab": {}
      },
      "source": [
        "#accuracy"
      ],
      "execution_count": 0,
      "outputs": []
    },
    {
      "cell_type": "code",
      "metadata": {
        "id": "M14HHe9Pi8-Z",
        "colab_type": "code",
        "colab": {}
      },
      "source": [
        "#rf_random.best_estimator_"
      ],
      "execution_count": 0,
      "outputs": []
    },
    {
      "cell_type": "markdown",
      "metadata": {
        "id": "sBA7P32PhWZF",
        "colab_type": "text"
      },
      "source": [
        "Final Model"
      ]
    },
    {
      "cell_type": "code",
      "metadata": {
        "id": "NY9uFW4zrOKz",
        "colab_type": "code",
        "colab": {}
      },
      "source": [
        "forest = RandomForestClassifier(bootstrap=False, ccp_alpha=0.0, class_weight=None,\n",
        "                       criterion='gini', max_depth=None, max_features='auto',\n",
        "                       max_leaf_nodes=None, max_samples=None,\n",
        "                       min_impurity_decrease=0.0, min_impurity_split=None,\n",
        "                       min_samples_leaf=1, min_samples_split=2,\n",
        "                       min_weight_fraction_leaf=0.0, n_estimators=600,\n",
        "                       n_jobs=None, oob_score=False, random_state=None,\n",
        "                       verbose=0, warm_start=False)"
      ],
      "execution_count": 0,
      "outputs": []
    },
    {
      "cell_type": "code",
      "metadata": {
        "id": "ReZF37-RrfiG",
        "colab_type": "code",
        "outputId": "9ac25d26-6008-4832-b499-1896daab3ef3",
        "colab": {
          "base_uri": "https://localhost:8080/",
          "height": 207
        }
      },
      "source": [
        "forest.fit(X_train,y_train)"
      ],
      "execution_count": 0,
      "outputs": [
        {
          "output_type": "stream",
          "text": [
            "/usr/local/lib/python3.6/dist-packages/ipykernel_launcher.py:1: DataConversionWarning: A column-vector y was passed when a 1d array was expected. Please change the shape of y to (n_samples,), for example using ravel().\n",
            "  \"\"\"Entry point for launching an IPython kernel.\n"
          ],
          "name": "stderr"
        },
        {
          "output_type": "execute_result",
          "data": {
            "text/plain": [
              "RandomForestClassifier(bootstrap=False, ccp_alpha=0.0, class_weight=None,\n",
              "                       criterion='gini', max_depth=None, max_features='auto',\n",
              "                       max_leaf_nodes=None, max_samples=None,\n",
              "                       min_impurity_decrease=0.0, min_impurity_split=None,\n",
              "                       min_samples_leaf=1, min_samples_split=2,\n",
              "                       min_weight_fraction_leaf=0.0, n_estimators=600,\n",
              "                       n_jobs=None, oob_score=False, random_state=None,\n",
              "                       verbose=0, warm_start=False)"
            ]
          },
          "metadata": {
            "tags": []
          },
          "execution_count": 15
        }
      ]
    },
    {
      "cell_type": "code",
      "metadata": {
        "id": "vqVOQA2Jrme7",
        "colab_type": "code",
        "colab": {}
      },
      "source": [
        "predictions = forest.predict(X_test)"
      ],
      "execution_count": 0,
      "outputs": []
    },
    {
      "cell_type": "markdown",
      "metadata": {
        "id": "Wn0D5BZ8hblw",
        "colab_type": "text"
      },
      "source": [
        "# Accuracy Measures"
      ]
    },
    {
      "cell_type": "code",
      "metadata": {
        "id": "MSqQm0jPV4Hh",
        "colab_type": "code",
        "outputId": "aa59e23f-911f-42f8-9bc5-b5be7f615c45",
        "colab": {
          "base_uri": "https://localhost:8080/",
          "height": 34
        }
      },
      "source": [
        "accuracy_score(y_test,predictions)"
      ],
      "execution_count": 0,
      "outputs": [
        {
          "output_type": "execute_result",
          "data": {
            "text/plain": [
              "0.833729216152019"
            ]
          },
          "metadata": {
            "tags": []
          },
          "execution_count": 17
        }
      ]
    },
    {
      "cell_type": "code",
      "metadata": {
        "id": "8PAgdnbzWIy3",
        "colab_type": "code",
        "outputId": "876138be-df94-494e-b63b-a6b741c9695e",
        "colab": {
          "base_uri": "https://localhost:8080/",
          "height": 34
        }
      },
      "source": [
        "r2_score(y_test,predictions)"
      ],
      "execution_count": 0,
      "outputs": [
        {
          "output_type": "execute_result",
          "data": {
            "text/plain": [
              "0.5710470900198965"
            ]
          },
          "metadata": {
            "tags": []
          },
          "execution_count": 18
        }
      ]
    },
    {
      "cell_type": "code",
      "metadata": {
        "id": "lBqo2cjlW9Yo",
        "colab_type": "code",
        "outputId": "643804f8-dd5b-4171-9336-4e1dac44cdf3",
        "colab": {
          "base_uri": "https://localhost:8080/",
          "height": 255
        }
      },
      "source": [
        "from sklearn.metrics import classification_report\n",
        "target_names = ['exercise','enjoy_the_moment','achievement','nature','bonding','affection','leisure']\n",
        "print(classification_report(y_test,predictions,target_names =target_names))"
      ],
      "execution_count": 0,
      "outputs": [
        {
          "output_type": "stream",
          "text": [
            "                  precision    recall  f1-score   support\n",
            "\n",
            "        exercise       0.93      0.53      0.68       107\n",
            "enjoy_the_moment       0.82      0.47      0.60       943\n",
            "     achievement       0.77      0.92      0.84      2594\n",
            "          nature       0.88      0.48      0.62       150\n",
            "         bonding       0.97      0.88      0.92       881\n",
            "       affection       0.86      0.94      0.90      2696\n",
            "         leisure       0.84      0.65      0.73       628\n",
            "\n",
            "        accuracy                           0.83      7999\n",
            "       macro avg       0.87      0.70      0.76      7999\n",
            "    weighted avg       0.84      0.83      0.82      7999\n",
            "\n"
          ],
          "name": "stdout"
        }
      ]
    },
    {
      "cell_type": "code",
      "metadata": {
        "id": "dxDX0V6pXyAE",
        "colab_type": "code",
        "outputId": "d21d50e6-17b9-4009-953e-5f1d7c3fc279",
        "colab": {
          "base_uri": "https://localhost:8080/",
          "height": 54
        }
      },
      "source": [
        "\"\"\"'achievement'= 3\n",
        "'affection'= 6\n",
        "'bonding' = 5\n",
        "'enjoy_the_moment'=2\n",
        "'exercise'=1\n",
        "'leisure'=7\n",
        "'nature' = 4\n",
        "\"\"\""
      ],
      "execution_count": 0,
      "outputs": [
        {
          "output_type": "execute_result",
          "data": {
            "text/plain": [
              "\"'achievement'= 3\\n'affection'= 6\\n'bonding' = 5\\n'enjoy_the_moment'=2\\n'exercise'=1\\n'leisure'=7\\n'nature' = 4\\n\""
            ]
          },
          "metadata": {
            "tags": []
          },
          "execution_count": 20
        }
      ]
    },
    {
      "cell_type": "code",
      "metadata": {
        "id": "MK346UxTaioJ",
        "colab_type": "code",
        "outputId": "611fe898-dc5f-428b-f275-a4768eb83cf8",
        "colab": {
          "base_uri": "https://localhost:8080/",
          "height": 279
        }
      },
      "source": [
        "import matplotlib.pyplot as plt\n",
        "from sklearn.metrics import plot_confusion_matrix\n",
        "\n",
        "disp = plot_confusion_matrix(forest, X_test, y_test,\n",
        "                                 cmap=plt.cm.Blues,\n",
        "                             normalize = 'true')"
      ],
      "execution_count": 0,
      "outputs": [
        {
          "output_type": "display_data",
          "data": {
            "image/png": "[encoded data removed]",
            "text/plain": [
              "<Figure size 432x288 with 2 Axes>"
            ]
          },
          "metadata": {
            "tags": [],
            "needs_background": "light"
          }
        }
      ]
    }
  ]
}